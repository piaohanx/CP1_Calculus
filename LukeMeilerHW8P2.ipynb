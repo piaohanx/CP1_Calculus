{
 "cells": [
  {
   "cell_type": "markdown",
   "id": "feb7622a-5bdc-4bf9-ae3d-f6468dd877a8",
   "metadata": {},
   "source": [
    "# Homwork 8 Problem 2\n",
    "\n",
    "## Luke Meiler\n",
    "\n",
    "### Root Finding\n",
    "\n",
    "We will be finding the roots to $\\tan(x)$ and $\\tanh(x)$ using two different root-finding algorithms. We will use the simple search and bisection search algorithms as they are the simplest to use. First, we know that the roots to these two functions in the given range are at $0$, which will be useful to keep in mind later. As usual, we start by making some imports:"
   ]
  },
  {
   "cell_type": "code",
   "execution_count": 1,
   "id": "3e80ef05-d3b4-4fe3-a14e-d3d2a9a08129",
   "metadata": {},
   "outputs": [],
   "source": [
    "import math\n",
    "import numpy as np\n",
    "import matplotlib.pyplot as plt\n",
    "from rootfinding import *"
   ]
  },
  {
   "cell_type": "code",
   "execution_count": 2,
   "id": "47a716cc-c18d-4073-beca-96db7d5a6b89",
   "metadata": {},
   "outputs": [],
   "source": [
    "%load_ext pycodestyle_magic\n",
    "%pycodestyle_on"
   ]
  },
  {
   "cell_type": "markdown",
   "id": "df747a47-6d1b-467d-86be-4fe88300cc21",
   "metadata": {},
   "source": [
    "We will define our $\\tan$ and $\\tanh$ functions as regular python functions here to show off the docstrings and to make sure that there are no numpy issues, but these functions simply use the numpy functions."
   ]
  },
  {
   "cell_type": "code",
   "execution_count": 3,
   "id": "fa7eaee3-2858-457e-9e85-1aff90446cc5",
   "metadata": {},
   "outputs": [],
   "source": [
    "def tan_func(x):\n",
    "    \"\"\"Takes an array of x values and return the tangent\n",
    "    value at those points\n",
    "\n",
    "    Parameters:\n",
    "\n",
    "    x: numpy.ndarray\n",
    "\n",
    "        The list of values having the tangent taken of\n",
    "\n",
    "    Returns:\n",
    "\n",
    "    ans: numpy.ndarray\n",
    "\n",
    "        The list of tanget values being returned\"\"\"\n",
    "    ans = np.tan(x)\n",
    "    return ans\n",
    "\n",
    "\n",
    "def tanh_func(x):\n",
    "    \"\"\"Takes an array of x values and return the hyperbolic\n",
    "    tangent value at those points\n",
    "\n",
    "    Parameters:\n",
    "\n",
    "    x: numpy.ndarray\n",
    "\n",
    "        The list of values having the hyperbolic tangent taken of\n",
    "\n",
    "    Returns:\n",
    "\n",
    "    ans: numpy.ndarray\n",
    "\n",
    "        The list of hyperbolic tanget values being returned\"\"\"\n",
    "    ans = np.tanh(x)\n",
    "    return ans"
   ]
  },
  {
   "cell_type": "markdown",
   "id": "301ce7ca-4e40-4bb5-b131-cbf9526ce216",
   "metadata": {},
   "source": [
    "## Results\n",
    "\n",
    "### $\\tan(x)$"
   ]
  },
  {
   "cell_type": "code",
   "execution_count": 4,
   "id": "fe12bf6c-16a0-41ea-b3b5-e4cc818e84d3",
   "metadata": {},
   "outputs": [],
   "source": [
    "x_1 = -1.5\n",
    "x_2 = 1.5"
   ]
  },
  {
   "cell_type": "code",
   "execution_count": 5,
   "id": "fd7e96ae-aa15-45a7-a307-131964b48861",
   "metadata": {},
   "outputs": [
    {
     "name": "stdout",
     "output_type": "stream",
     "text": [
      " Algorithms for root of tan(x)\n",
      " ------------------------------------------------\n",
      " 1. Simple search\n",
      "\n",
      " ROOT FINDING using Simple Search with Step Halving\n",
      " Requested accuracy = 1e-05\n",
      " Step     Guess For Root          Step Size           Function Value\n",
      " ----  --------------------  --------------------  --------------------\n",
      "    0  0.0                   0.01                  0.0                 \n",
      " 2. Bisection search\n",
      "\n",
      " ROOT FINDING using Bisection Search\n",
      " Requested accuracy = 1e-05\n",
      " Step     Guess For Root          Step Size           Function Value\n",
      " ----  --------------------  --------------------  --------------------\n",
      "    0  0.0                   3.0                   0.0                 \n",
      "    1  0.0                   0.0                   0.0                 \n"
     ]
    }
   ],
   "source": [
    "print(\" Algorithms for root of tan(x)\")\n",
    "print(\" ------------------------------------------------\")\n",
    "\n",
    "print(\" 1. Simple search\")\n",
    "xmid = (x_2 + x_1)*0.5\n",
    "dx = 0.01\n",
    "acc = 1e-5\n",
    "label1 = 'simple'\n",
    "answer1, iterations1 = root_simple(tan_func, xmid, dx, acc, 1000, True)\n",
    "\n",
    "print(\" 2. Bisection search\")\n",
    "acc = 1e-5\n",
    "label2 = 'bisection'\n",
    "answer2, iterations2 = root_bisection(tan_func, x_1, x_2, acc, 1000, True)"
   ]
  },
  {
   "cell_type": "markdown",
   "id": "9cb2b6c6-92d8-4b96-aa1d-e4e018adfb9e",
   "metadata": {},
   "source": [
    "We see that if we use symmetric bounds around the actual root, the initial guess is just the correct root for the tangent function. We can try using different bounds so as to not supply the algorithm with the correct answer as a guess:"
   ]
  },
  {
   "cell_type": "code",
   "execution_count": 6,
   "id": "03025e1e-fa8b-401a-a1de-e0e478a96217",
   "metadata": {},
   "outputs": [],
   "source": [
    "x_3 = -0.8\n",
    "x_4 = 0.6"
   ]
  },
  {
   "cell_type": "code",
   "execution_count": 10,
   "id": "b592fccb-6b84-4e71-b0ba-adf270d395cb",
   "metadata": {},
   "outputs": [
    {
     "name": "stdout",
     "output_type": "stream",
     "text": [
      " Algorithms for root of tan(x)\n",
      " ------------------------------------------------\n",
      " 1. Simple search\n",
      "\n",
      " ROOT FINDING using Simple Search with Step Halving\n",
      " Requested accuracy = 1e-05\n",
      " Step     Guess For Root          Step Size           Function Value\n",
      " ----  --------------------  --------------------  --------------------\n",
      "    0  -0.10000000000000003  0.01                  -0.10033467208545058\n",
      "    1  -0.09000000000000004  0.01                  -0.09024378990978549\n",
      "    2  -0.08000000000000004  0.01                  -0.08017110470807261\n",
      "    3  -0.07000000000000005  0.01                  -0.07011455787200276\n",
      "    4  -0.060000000000000046  0.01                  -0.06007210383129733\n",
      "    5  -0.050000000000000044  0.01                  -0.05004170837553883\n",
      "    6  -0.04000000000000004  0.01                  -0.04002134699551461\n",
      "    7  -0.03000000000000004  0.01                  -0.030009003241180755\n",
      "    8  -0.02000000000000004  0.01                  -0.02000266709340246\n",
      "    9  -0.010000000000000038  0.01                  -0.010000333346667245\n",
      "   10  -3.8163916471489756e-17  0.01                  -3.8163916471489756e-17\n",
      "   11  -3.8163916471489756e-17  0.005                 0.010000333346667169\n",
      "   12  -3.8163916471489756e-17  0.0025                0.005000041667083299\n",
      "   13  -3.8163916471489756e-17  0.00125               0.002500005208346316\n",
      "   14  -3.8163916471489756e-17  0.000625              0.0012500006510420354\n",
      "   15  -3.8163916471489756e-17  0.0003125             0.0006250000813801829\n",
      "   16  -3.8163916471489756e-17  0.00015625            0.0003125000101724883\n",
      "   17  -3.8163916471489756e-17  7.8125e-05            0.00015625000127152762\n",
      "   18  -3.8163916471489756e-17  3.90625e-05           7.812500015890756e-05\n",
      "   19  -3.8163916471489756e-17  1.953125e-05          3.906250001983005e-05\n",
      "   20  -3.8163916471489756e-17  9.765625e-06          1.9531250002445364e-05\n",
      " 2. Bisection search\n",
      "\n",
      " ROOT FINDING using Bisection Search\n",
      " Requested accuracy = 1e-05\n",
      " Step     Guess For Root          Step Size           Function Value\n",
      " ----  --------------------  --------------------  --------------------\n",
      "    0  -0.10000000000000003  1.4                   -0.10033467208545058\n",
      "    1  0.24999999999999997   0.7                   0.2553419212210362  \n",
      "    2  0.07499999999999997   0.35                  0.07514094212828501 \n",
      "    3  -0.012500000000000032  0.175                 -0.012500651082359376\n",
      "    4  0.03124999999999997   0.0875                0.031260176501255926\n",
      "    5  0.009374999999999968  0.04375               0.009375274667859389\n",
      "    6  -0.0015625000000000317  0.021875              -0.0015625012715670286\n",
      "    7  0.0039062499999999683  0.0109375             0.00390626986833616 \n",
      "    8  0.0011718749999999683  0.00546875            0.0011718755364420659\n",
      "    9  -0.00019531250000003172  0.002734375           -0.00019531250248355862\n",
      "   10  0.0004882812499999683  0.0013671875          0.0004882812888050793\n",
      "   11  0.00014648437499996828  0.00068359375         0.0001464843760477062\n",
      "   12  -2.441406250003172e-05  0.000341796875        -2.441406250488236e-05\n",
      "   13  6.103515624996828e-05  0.0001708984375       6.103515632575951e-05\n",
      "   14  1.831054687496828e-05  8.544921875e-05       1.8310546877014643e-05\n",
      "   15  -3.0517578125317207e-06  4.2724609375e-05      -3.0517578125411948e-06\n",
      "   16  7.6293945312182795e-06  2.13623046875e-05     7.62939453136631e-06\n",
      "   17  2.2888183593432794e-06  1.068115234375e-05    2.288818359347276e-06\n",
      "   18  -3.8146972659422066e-07  5.340576171875e-06    -3.814697265942392e-07\n"
     ]
    }
   ],
   "source": [
    "print(\" Algorithms for root of tan(x)\")\n",
    "print(\" ------------------------------------------------\")\n",
    "\n",
    "print(\" 1. Simple search\")\n",
    "xmid = (x_3 + x_4)*0.5\n",
    "dx = 0.01\n",
    "acc = 1e-5\n",
    "label3 = 'simple'\n",
    "answer3, iterations3 = root_simple(tan_func, xmid, dx, acc, 1000, True)\n",
    "\n",
    "print(\" 2. Bisection search\")\n",
    "acc = 1e-5\n",
    "label4 = 'bisection'\n",
    "answer4, iterations4 = root_bisection(tan_func, x_3, x_4, acc, 1000, True)"
   ]
  },
  {
   "cell_type": "markdown",
   "id": "310d03d0-2275-4128-b9ce-877d9b8ac909",
   "metadata": {},
   "source": [
    "With these new bounds, we see that the bisection search actually finds the root to a more accurate degree with fewer steps, only taking 18 as opposed to the simple search's 20. When looking for more interesting bounds, the simple search often broke, ending at a value of upwards of $-20,000$ or something crazy like that. I assume the asymptotic nature of the tangent function messed with the algorithm somewhat to give innacurate results."
   ]
  },
  {
   "cell_type": "markdown",
   "id": "0d9fa9fe-cc01-4d9e-8276-801a327d3b3a",
   "metadata": {},
   "source": [
    "### $\\tanh (x)$"
   ]
  },
  {
   "cell_type": "code",
   "execution_count": 11,
   "id": "553f7ad2-a4b0-47c6-856e-01a715c77d47",
   "metadata": {},
   "outputs": [
    {
     "name": "stdout",
     "output_type": "stream",
     "text": [
      " Algorithms for root of tanh(x)\n",
      " ------------------------------------------------\n",
      " 1. Simple search\n",
      "\n",
      " ROOT FINDING using Simple Search with Step Halving\n",
      " Requested accuracy = 1e-05\n",
      " Step     Guess For Root          Step Size           Function Value\n",
      " ----  --------------------  --------------------  --------------------\n",
      "    0  0.0                   0.01                  0.0                 \n",
      " 2. Bisection search\n",
      "\n",
      " ROOT FINDING using Bisection Search\n",
      " Requested accuracy = 1e-05\n",
      " Step     Guess For Root          Step Size           Function Value\n",
      " ----  --------------------  --------------------  --------------------\n",
      "    0  0.0                   3.0                   0.0                 \n",
      "    1  0.0                   0.0                   0.0                 \n"
     ]
    }
   ],
   "source": [
    "print(\" Algorithms for root of tanh(x)\")\n",
    "print(\" ------------------------------------------------\")\n",
    "\n",
    "print(\" 1. Simple search\")\n",
    "xmid = (x_2 + x_1)*0.5\n",
    "dx = 0.01\n",
    "acc = 1e-5\n",
    "label5 = 'simple'\n",
    "answer5, iterations5 = root_simple(tanh_func, xmid, dx, acc, 1000, True)\n",
    "\n",
    "print(\" 2. Bisection search\")\n",
    "acc = 1e-5\n",
    "label6 = 'bisection'\n",
    "answer6, iterations6 = root_bisection(tanh_func, x_1, x_2, acc, 1000, True)"
   ]
  },
  {
   "cell_type": "markdown",
   "id": "02a3b562-60e6-41fa-90f8-8b42b1312ef4",
   "metadata": {},
   "source": [
    "Again we see the issue with the symmetric bounds supplying the correct answer as a guess, so we can try some more interesting bounds."
   ]
  },
  {
   "cell_type": "code",
   "execution_count": 12,
   "id": "938647e7-ea90-45d3-9530-de481218e3f9",
   "metadata": {},
   "outputs": [
    {
     "name": "stdout",
     "output_type": "stream",
     "text": [
      " Algorithms for root of tanh(x)\n",
      " ------------------------------------------------\n",
      " 1. Simple search\n",
      "\n",
      " ROOT FINDING using Simple Search with Step Halving\n",
      " Requested accuracy = 1e-05\n",
      " Step     Guess For Root          Step Size           Function Value\n",
      " ----  --------------------  --------------------  --------------------\n",
      "    0  -0.10000000000000003  0.01                  -0.09966799462495586\n",
      "    1  -0.09000000000000004  0.01                  -0.08975778474716015\n",
      "    2  -0.08000000000000004  0.01                  -0.0798297691111314 \n",
      "    3  -0.07000000000000005  0.01                  -0.06988589031642903\n",
      "    4  -0.060000000000000046  0.01                  -0.059928103529143545\n",
      "    5  -0.050000000000000044  0.01                  -0.04995837495788002\n",
      "    6  -0.04000000000000004  0.01                  -0.03997868031116362\n",
      "    7  -0.03000000000000004  0.01                  -0.029991003238820185\n",
      "    8  -0.02000000000000004  0.01                  -0.01999733375993097\n",
      "    9  -0.010000000000000038  0.01                  -0.009999666679999498\n",
      "   10  -3.8163916471489756e-17  0.01                  -3.8163916471489756e-17\n",
      "   11  -3.8163916471489756e-17  0.005                 0.009999666679999422\n",
      "   12  -3.8163916471489756e-17  0.0025                0.004999958333749958\n",
      "   13  -3.8163916471489756e-17  0.00125               0.0024999947916796495\n",
      "   14  -3.8163916471489756e-17  0.000625              0.0012499993489587021\n",
      "   15  -3.8163916471489756e-17  0.0003125             0.0006249999186197662\n",
      "   16  -3.8163916471489756e-17  0.00015625            0.0003124999898274362\n",
      "   17  -3.8163916471489756e-17  7.8125e-05            0.0001562499987283961\n",
      "   18  -3.8163916471489756e-17  3.90625e-05           7.812499984101612e-05\n",
      "   19  -3.8163916471489756e-17  1.953125e-05          3.906249998009362e-05\n",
      "   20  -3.8163916471489756e-17  9.765625e-06          1.953124999747831e-05\n",
      " 2. Bisection search\n",
      "\n",
      " ROOT FINDING using Bisection Search\n",
      " Requested accuracy = 1e-05\n",
      " Step     Guess For Root          Step Size           Function Value\n",
      " ----  --------------------  --------------------  --------------------\n",
      "    0  -0.10000000000000003  1.4                   -0.09966799462495586\n",
      "    1  0.24999999999999997   0.7                   0.24491866240370913 \n",
      "    2  0.07499999999999997   0.35                  0.07485969068749906 \n",
      "    3  -0.012500000000000032  0.175                 -0.012499348999020898\n",
      "    4  0.03124999999999997   0.0875                0.03123983144603123 \n",
      "    5  0.009374999999999968  0.04375               0.009374725351452453\n",
      "    6  -0.0015625000000000317  0.021875              -0.0015624987284355183\n",
      "    7  0.0039062499999999683  0.0109375             0.0039062301319063085\n",
      "    8  0.0011718749999999683  0.00546875            0.0011718744635584601\n",
      "    9  -0.00019531250000003172  0.002734375           -0.00019531249751650488\n",
      "   10  0.0004882812499999683  0.0013671875          0.00048828121119486473\n",
      "   11  0.00014648437499996828  0.00068359375         0.0001464843739522304\n",
      "   12  -2.441406250003172e-05  0.000341796875        -2.4414062495181082e-05\n",
      "   13  6.103515624996828e-05  0.0001708984375       6.103515617417705e-05\n",
      "   14  1.831054687496828e-05  8.544921875e-05       1.8310546872921916e-05\n",
      "   15  -3.0517578125317207e-06  4.2724609375e-05      -3.0517578125222466e-06\n",
      "   16  7.6293945312182795e-06  2.13623046875e-05     7.6293945310702494e-06\n",
      "   17  2.2888183593432794e-06  1.068115234375e-05    2.2888183593392827e-06\n",
      "   18  -3.8146972659422066e-07  5.340576171875e-06    -3.8146972659420214e-07\n"
     ]
    }
   ],
   "source": [
    "print(\" Algorithms for root of tanh(x)\")\n",
    "print(\" ------------------------------------------------\")\n",
    "\n",
    "print(\" 1. Simple search\")\n",
    "xmid = (x_3 + x_4)*0.5\n",
    "dx = 0.01\n",
    "acc = 1e-5\n",
    "label7 = 'simple'\n",
    "answer7, iterations7 = root_simple(tanh_func, xmid, dx, acc, 1000, True)\n",
    "\n",
    "print(\" 2. Bisection search\")\n",
    "acc = 1e-5\n",
    "label8 = 'bisection'\n",
    "answer8, iterations8 = root_bisection(tanh_func, x_3, x_4, acc, 1000, True)"
   ]
  },
  {
   "cell_type": "markdown",
   "id": "94df96e2-30e9-4009-8925-fde32b097499",
   "metadata": {},
   "source": [
    "We see almost the exact same structure as the searches for the $\\tan(x)$ roots. The same roots with the same number of steps were found, again with the bisection search being the superior of the two."
   ]
  },
  {
   "cell_type": "code",
   "execution_count": null,
   "id": "e204eee6-3cd5-46a5-bfab-92f058f2e59f",
   "metadata": {},
   "outputs": [],
   "source": []
  }
 ],
 "metadata": {
  "kernelspec": {
   "display_name": "Python 3 (ipykernel)",
   "language": "python",
   "name": "python3"
  },
  "language_info": {
   "codemirror_mode": {
    "name": "ipython",
    "version": 3
   },
   "file_extension": ".py",
   "mimetype": "text/x-python",
   "name": "python",
   "nbconvert_exporter": "python",
   "pygments_lexer": "ipython3",
   "version": "3.9.5"
  }
 },
 "nbformat": 4,
 "nbformat_minor": 5
}
