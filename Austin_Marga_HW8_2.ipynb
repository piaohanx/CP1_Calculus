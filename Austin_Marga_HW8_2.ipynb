{
 "cells": [
  {
   "cell_type": "markdown",
   "id": "1d7bdeff",
   "metadata": {},
   "source": [
    "# HW8 Problem 2\n",
    "## Austin Marga"
   ]
  },
  {
   "cell_type": "markdown",
   "id": "761f5e99",
   "metadata": {},
   "source": [
    "In this homework problem, we will explore root-finding algorithms for a few given functions. The root-finding algorithms that I will be using are the Bisection Method and the Secant Method. I am curious to see their differences in accuracy because they are similar in implementation. At least more similar to eachother than either of these to Newton's Method."
   ]
  },
  {
   "cell_type": "markdown",
   "id": "fb57a51c",
   "metadata": {},
   "source": [
    "The code for these root-finding functions can be found from the following GitHub or website:\n",
    "- https://github.com/patrickwalls/mathematical-python/\n",
    "- https://personal.math.ubc.ca/~pwalls/math-python/roots-optimization/newton/\n",
    "</br>\n",
    "The GitHub repository is provided under a Creative Commons License. All credit goes to Dr. Patrick Walls at UBC. The blog post is extremely well written and is worth checking out."
   ]
  },
  {
   "cell_type": "markdown",
   "id": "861c27ac",
   "metadata": {},
   "source": [
    "I have taken the different functions and placed them in a python file `roots.py`."
   ]
  },
  {
   "cell_type": "code",
   "execution_count": 1,
   "id": "b02f8a5c",
   "metadata": {},
   "outputs": [
    {
     "name": "stdout",
     "output_type": "stream",
     "text": [
      "Populating the interactive namespace from numpy and matplotlib\n"
     ]
    }
   ],
   "source": [
    "from roots import *\n",
    "%pylab inline"
   ]
  },
  {
   "cell_type": "code",
   "execution_count": 2,
   "id": "22f85fb2",
   "metadata": {},
   "outputs": [
    {
     "name": "stdout",
     "output_type": "stream",
     "text": [
      "Found exact solution.\n"
     ]
    },
    {
     "data": {
      "text/plain": [
       "0.0"
      ]
     },
     "execution_count": 2,
     "metadata": {},
     "output_type": "execute_result"
    }
   ],
   "source": [
    "f = lambda x: np.tan(x)\n",
    "a = -math.pi / 2\n",
    "b = math.pi / 2\n",
    "N = 2\n",
    "bisection(f,a,b,N)"
   ]
  },
  {
   "cell_type": "code",
   "execution_count": 3,
   "id": "fa126d8d",
   "metadata": {},
   "outputs": [
    {
     "name": "stdout",
     "output_type": "stream",
     "text": [
      "Found exact solution.\n"
     ]
    },
    {
     "data": {
      "text/plain": [
       "0.0"
      ]
     },
     "execution_count": 3,
     "metadata": {},
     "output_type": "execute_result"
    }
   ],
   "source": [
    "secant(f,a,b,N)"
   ]
  },
  {
   "cell_type": "code",
   "execution_count": 4,
   "id": "612ac2ef",
   "metadata": {},
   "outputs": [
    {
     "name": "stdout",
     "output_type": "stream",
     "text": [
      "Found exact solution.\n"
     ]
    },
    {
     "data": {
      "text/plain": [
       "0.0"
      ]
     },
     "execution_count": 4,
     "metadata": {},
     "output_type": "execute_result"
    }
   ],
   "source": [
    "f = lambda x: np.tanh(x)\n",
    "bisection(f,a,b,N)"
   ]
  },
  {
   "cell_type": "code",
   "execution_count": 5,
   "id": "5c366324",
   "metadata": {},
   "outputs": [
    {
     "name": "stdout",
     "output_type": "stream",
     "text": [
      "Found exact solution.\n"
     ]
    },
    {
     "data": {
      "text/plain": [
       "0.0"
      ]
     },
     "execution_count": 5,
     "metadata": {},
     "output_type": "execute_result"
    }
   ],
   "source": [
    "secant(f,a,b,N)"
   ]
  },
  {
   "cell_type": "markdown",
   "id": "6e1d63cb",
   "metadata": {},
   "source": [
    "Apparently, the functions used are powerful enough to find the root exactly. </br>\n",
    "*Or is it?*"
   ]
  },
  {
   "cell_type": "markdown",
   "id": "3c2a1ec7",
   "metadata": {},
   "source": [
    "These functions were able to find exact solutions because of the *symmetric boundary conditions* of these odd functions. Let's try to throw a wrench into these functions by using non-symmetric boundary conditions and see how accurate these calculations really are."
   ]
  },
  {
   "cell_type": "markdown",
   "id": "0f44d606",
   "metadata": {},
   "source": [
    "We first have to define accuracy. The actual x values of these roots are $x=0$, so we have to avoid dividing by zero. What I will do for this problem is to define accuracy as follows.\n",
    "$$\\text{acc} = \\frac{|1-|\\text{experimental||}}{1}\\times 100$$\n",
    "With this unit 1 offset, we can now have meaningful accuracies."
   ]
  },
  {
   "cell_type": "markdown",
   "id": "e41ce346",
   "metadata": {},
   "source": [
    "## y(x) = tan(x)"
   ]
  },
  {
   "cell_type": "code",
   "execution_count": 6,
   "id": "d77bfd8f",
   "metadata": {},
   "outputs": [
    {
     "name": "stdout",
     "output_type": "stream",
     "text": [
      "For tan(x), the bisection method finds the root to be 0.000244140625.\n",
      "Giving it an accuracy of 99.9755859375%.\n",
      "The number of partitions is 10.\n"
     ]
    }
   ],
   "source": [
    "f = lambda x: np.tan(x)\n",
    "a = -1.5\n",
    "b = 1\n",
    "N = 10\n",
    "exp = bisection(f,a,b,N)\n",
    "ab = np.absolute(exp)\n",
    "acc = (1 - ab)*100\n",
    "perc = str(acc) + \"%\"\n",
    "print(\"For tan(x), the bisection method finds the root to be {}.\".format(exp))\n",
    "print(\"Giving it an accuracy of {}%.\".format(acc))\n",
    "print(\"The number of partitions is {}.\".format(N))"
   ]
  },
  {
   "cell_type": "markdown",
   "id": "60ea63c1",
   "metadata": {},
   "source": [
    "For only 10 partitions, that is a suprisingly good accuracy. Only $.025$% off of the actual value."
   ]
  },
  {
   "cell_type": "markdown",
   "id": "03e490ed",
   "metadata": {},
   "source": [
    "Let's try the secant method now."
   ]
  },
  {
   "cell_type": "code",
   "execution_count": 7,
   "id": "7e6188f0",
   "metadata": {},
   "outputs": [
    {
     "name": "stdout",
     "output_type": "stream",
     "text": [
      "For tan(x), the bisection method finds the root to be 0.16567442026935986.\n",
      "Giving it an accuracy of 83.43255797306401%.\n",
      "The number of partitions is 10.\n"
     ]
    }
   ],
   "source": [
    "f = lambda x: np.tan(x)\n",
    "a = -1.5\n",
    "b = 1\n",
    "N = 10\n",
    "exp = secant(f,a,b,N)\n",
    "ab = np.absolute(exp)\n",
    "acc = (1 - ab)*100\n",
    "perc = str(acc) + \"%\"\n",
    "print(\"For tan(x), the bisection method finds the root to be {}.\".format(exp))\n",
    "print(\"Giving it an accuracy of {}%.\".format(acc))\n",
    "print(\"The number of partitions is {}.\".format(N))"
   ]
  },
  {
   "cell_type": "markdown",
   "id": "be4b3c06",
   "metadata": {},
   "source": [
    "The secant method seems to be significantly worse. How about the efficiency of the two functions? If you try out different values of $N$, you'll see that the 'accuracy' doesn't linearly increase with an increase in $N$. To try and see when the accuracy is rather high and trying to avoid tha anomalous successive guess, let's see the number of partition required to get an accuracy of $99.9999$%."
   ]
  },
  {
   "cell_type": "code",
   "execution_count": 8,
   "id": "dc1b89f6",
   "metadata": {},
   "outputs": [
    {
     "name": "stdout",
     "output_type": "stream",
     "text": [
      "For tan(x), the bisection method finds the root to be 9.5367431640625e-07.\n",
      "Giving it an accuracy of 99.99990463256836%.\n",
      "The number of partitions is 18.\n"
     ]
    }
   ],
   "source": [
    "f = lambda x: np.tan(x)\n",
    "a = -1.5\n",
    "b = 1\n",
    "N = 18\n",
    "exp = bisection(f,a,b,N)\n",
    "ab = np.absolute(exp)\n",
    "acc = (1 - ab)*100\n",
    "perc = str(acc) + \"%\"\n",
    "print(\"For tan(x), the bisection method finds the root to be {}.\".format(exp))\n",
    "print(\"Giving it an accuracy of {}%.\".format(acc))\n",
    "print(\"The number of partitions is {}.\".format(N))"
   ]
  },
  {
   "cell_type": "code",
   "execution_count": 9,
   "id": "19945f0a",
   "metadata": {},
   "outputs": [
    {
     "name": "stdout",
     "output_type": "stream",
     "text": [
      "For tan(x), the bisection method finds the root to be 9.866221215570903e-07.\n",
      "Giving it an accuracy of 99.99990133778785%.\n",
      "The number of partitions is 116.\n"
     ]
    }
   ],
   "source": [
    "f = lambda x: np.tan(x)\n",
    "a = -1.5\n",
    "b = 1\n",
    "N = 116\n",
    "exp = secant(f,a,b,N)\n",
    "ab = np.absolute(exp)\n",
    "acc = (1 - ab)*100\n",
    "perc = str(acc) + \"%\"\n",
    "print(\"For tan(x), the bisection method finds the root to be {}.\".format(exp))\n",
    "print(\"Giving it an accuracy of {}%.\".format(acc))\n",
    "print(\"The number of partitions is {}.\".format(N))"
   ]
  },
  {
   "cell_type": "markdown",
   "id": "6795b06a",
   "metadata": {},
   "source": [
    "## Summary for tan(x)\n",
    "- The bisection method is extremely accurate, giving an accuracy of over 99.97% in only 10 partitions.\n",
    "- The secant method is significantly less accurate, giving an accuracy of about 83.43% in 10 partitions.\n",
    "- It took the bisection method only 18 partitions to get an accuracy of 99.9999%.\n",
    "- It took the secant method 116 paritions to get an accuracy of 99.9999%."
   ]
  },
  {
   "cell_type": "markdown",
   "id": "f9464427",
   "metadata": {},
   "source": [
    "## y(x) = tanh(x)"
   ]
  },
  {
   "cell_type": "markdown",
   "id": "1ed485f8",
   "metadata": {},
   "source": [
    "Let's try the same thing for the function $tanh(x)$. We will use the same boundary conditions of $a = -1.5$ and $b=1$ with the initial partition number of $10$ and the target accuracy of $99.9999$%."
   ]
  },
  {
   "cell_type": "code",
   "execution_count": 10,
   "id": "678512fa",
   "metadata": {},
   "outputs": [
    {
     "name": "stdout",
     "output_type": "stream",
     "text": [
      "For tanh(x), the bisection method finds the root to be 0.000244140625.\n",
      "Giving it an accuracy of 99.9755859375%.\n",
      "The number of partitions is 10.\n"
     ]
    }
   ],
   "source": [
    "f = lambda x: np.tanh(x)\n",
    "a = -1.5\n",
    "b = 1\n",
    "N = 10\n",
    "exp = bisection(f,a,b,N)\n",
    "ab = np.absolute(exp)\n",
    "acc = (1 - ab)*100\n",
    "perc = str(acc) + \"%\"\n",
    "print(\"For tanh(x), the bisection method finds the root to be {}.\".format(exp))\n",
    "print(\"Giving it an accuracy of {}%.\".format(acc))\n",
    "print(\"The number of partitions is {}.\".format(N))"
   ]
  },
  {
   "cell_type": "markdown",
   "id": "536cad93",
   "metadata": {},
   "source": [
    "This is the same accuracy as the function $y(x) = tan(x)$. Let's try to get the accuracy of 99.9999% for the bisection method here."
   ]
  },
  {
   "cell_type": "code",
   "execution_count": 11,
   "id": "7f05c01d",
   "metadata": {},
   "outputs": [
    {
     "name": "stdout",
     "output_type": "stream",
     "text": [
      "For tanh(x), the bisection method finds the root to be 9.5367431640625e-07.\n",
      "Giving it an accuracy of 99.99990463256836%.\n",
      "The number of partitions is 18.\n"
     ]
    }
   ],
   "source": [
    "f = lambda x: np.tanh(x)\n",
    "a = -1.5\n",
    "b = 1\n",
    "N = 18\n",
    "exp = bisection(f,a,b,N)\n",
    "ab = np.absolute(exp)\n",
    "acc = (1 - ab)*100\n",
    "perc = str(acc) + \"%\"\n",
    "print(\"For tanh(x), the bisection method finds the root to be {}.\".format(exp))\n",
    "print(\"Giving it an accuracy of {}%.\".format(acc))\n",
    "print(\"The number of partitions is {}.\".format(N))"
   ]
  },
  {
   "cell_type": "markdown",
   "id": "fd330c4c",
   "metadata": {},
   "source": [
    "We can see that the exact same situation happens as for the previous function."
   ]
  },
  {
   "cell_type": "markdown",
   "id": "dd096ecb",
   "metadata": {},
   "source": [
    "Now, lets try the **secant method**. We will see some interesting results."
   ]
  },
  {
   "cell_type": "code",
   "execution_count": 12,
   "id": "94c5c020",
   "metadata": {},
   "outputs": [
    {
     "name": "stdout",
     "output_type": "stream",
     "text": [
      "Found exact solution.\n",
      "For tanh(x), the bisection method finds the root to be 0.0.\n",
      "Giving it an accuracy of 100.0%.\n",
      "The number of partitions is 10.\n"
     ]
    }
   ],
   "source": [
    "f = lambda x: np.tanh(x)\n",
    "a = -1.5\n",
    "b = 1\n",
    "N = 10\n",
    "exp = secant(f,a,b,N)\n",
    "ab = np.absolute(exp)\n",
    "acc = (1 - ab)*100\n",
    "perc = str(acc) + \"%\"\n",
    "print(\"For tanh(x), the bisection method finds the root to be {}.\".format(exp))\n",
    "print(\"Giving it an accuracy of {}%.\".format(acc))\n",
    "print(\"The number of partitions is {}.\".format(N))"
   ]
  },
  {
   "cell_type": "markdown",
   "id": "81b05c0d",
   "metadata": {},
   "source": [
    "Due to the nature of the secant method, we can find an exact solution of $y = tanh(x)$. This works for many boundary conditions. The only requirement is that $a<0$ and $b>0$. If you try significantly more random boundary conditions, you may not get an exact solution. Let's try some random boundary conditions."
   ]
  },
  {
   "cell_type": "code",
   "execution_count": 13,
   "id": "bc275059",
   "metadata": {},
   "outputs": [
    {
     "name": "stdout",
     "output_type": "stream",
     "text": [
      "Found exact solution.\n",
      "For tanh(x), the bisection method finds the root to be 0.0.\n",
      "Giving it an accuracy of 100.0%.\n",
      "The number of partitions is 10.\n"
     ]
    }
   ],
   "source": [
    "f = lambda x: np.tanh(x)\n",
    "a = -203.5\n",
    "b = 13.54\n",
    "N = 10\n",
    "exp = secant(f,a,b,N)\n",
    "ab = np.absolute(exp)\n",
    "acc = (1 - ab)*100\n",
    "perc = str(acc) + \"%\"\n",
    "print(\"For tanh(x), the bisection method finds the root to be {}.\".format(exp))\n",
    "print(\"Giving it an accuracy of {}%.\".format(acc))\n",
    "print(\"The number of partitions is {}.\".format(N))"
   ]
  },
  {
   "cell_type": "markdown",
   "id": "9ffca963",
   "metadata": {},
   "source": [
    "If we try boundary conditions too far, the function starts to break down."
   ]
  },
  {
   "cell_type": "code",
   "execution_count": 14,
   "id": "ea5b2453",
   "metadata": {},
   "outputs": [
    {
     "name": "stdout",
     "output_type": "stream",
     "text": [
      "For tanh(x), the bisection method finds the root to be 86829.48839843692.\n",
      "Giving it an accuracy of -8682848.839843692%.\n",
      "The number of partitions is 10.\n"
     ]
    }
   ],
   "source": [
    "f = lambda x: np.tanh(x)\n",
    "a = -20252453.5\n",
    "b = 1323452435.54\n",
    "N = 10\n",
    "exp = secant(f,a,b,N)\n",
    "ab = np.absolute(exp)\n",
    "acc = (1 - ab)*100\n",
    "perc = str(acc) + \"%\"\n",
    "print(\"For tanh(x), the bisection method finds the root to be {}.\".format(exp))\n",
    "print(\"Giving it an accuracy of {}%.\".format(acc))\n",
    "print(\"The number of partitions is {}.\".format(N))"
   ]
  },
  {
   "cell_type": "markdown",
   "id": "d9430ec6",
   "metadata": {},
   "source": [
    "We can alleviate this by adding partitions."
   ]
  },
  {
   "cell_type": "code",
   "execution_count": 15,
   "id": "8bc9d8d1",
   "metadata": {},
   "outputs": [
    {
     "name": "stdout",
     "output_type": "stream",
     "text": [
      "Found exact solution.\n",
      "For tanh(x), the bisection method finds the root to be 0.0.\n",
      "Giving it an accuracy of 100.0%.\n",
      "The number of partitions is 100.\n"
     ]
    }
   ],
   "source": [
    "f = lambda x: np.tanh(x)\n",
    "a = -20252453.5\n",
    "b = 1323452435.54\n",
    "N = 100\n",
    "exp = secant(f,a,b,N)\n",
    "ab = np.absolute(exp)\n",
    "acc = (1 - ab)*100\n",
    "perc = str(acc) + \"%\"\n",
    "print(\"For tanh(x), the bisection method finds the root to be {}.\".format(exp))\n",
    "print(\"Giving it an accuracy of {}%.\".format(acc))\n",
    "print(\"The number of partitions is {}.\".format(N))"
   ]
  },
  {
   "cell_type": "markdown",
   "id": "d163ac21",
   "metadata": {},
   "source": [
    "Given *enough partitions*, the secant method appears to be able to find the exact solution for tanh(x)."
   ]
  },
  {
   "cell_type": "markdown",
   "id": "f0fb89e8",
   "metadata": {},
   "source": [
    "## Summary for tanh(x)\n",
    "- The bisection method is extremely accurate, giving an accuracy of over 99.97% in only 10 partitions.\n",
    "- The secant method can find the exact solution for this function, the accuracy is 100%!\n",
    "- It took the bisection method only 18 partitions to get an accuracy of 99.9999%.\n",
    "- The secant method can find the exact root of this specific function given enough partions. Otherwise, it fails."
   ]
  },
  {
   "cell_type": "code",
   "execution_count": null,
   "id": "610f3f3c",
   "metadata": {},
   "outputs": [],
   "source": []
  }
 ],
 "metadata": {
  "kernelspec": {
   "display_name": "Python 3 (ipykernel)",
   "language": "python",
   "name": "python3"
  },
  "language_info": {
   "codemirror_mode": {
    "name": "ipython",
    "version": 3
   },
   "file_extension": ".py",
   "mimetype": "text/x-python",
   "name": "python",
   "nbconvert_exporter": "python",
   "pygments_lexer": "ipython3",
   "version": "3.9.7"
  }
 },
 "nbformat": 4,
 "nbformat_minor": 5
}
